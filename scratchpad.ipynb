{
 "cells": [
  {
   "cell_type": "code",
   "execution_count": 1,
   "metadata": {},
   "outputs": [
    {
     "name": "stderr",
     "output_type": "stream",
     "text": [
      "/Users/lukethomas/Documents/searchyenv/lib/python3.8/site-packages/tqdm/auto.py:22: TqdmWarning: IProgress not found. Please update jupyter and ipywidgets. See https://ipywidgets.readthedocs.io/en/stable/user_install.html\n",
      "  from .autonotebook import tqdm as notebook_tqdm\n",
      "Downloading: 100%|██████████| 59.0/59.0 [00:00<00:00, 21.4kB/s]\n",
      "Downloading: 100%|██████████| 829/829 [00:00<00:00, 609kB/s]\n",
      "Downloading: 100%|██████████| 213k/213k [00:00<00:00, 852kB/s] \n",
      "Downloading: 100%|██████████| 2.00/2.00 [00:00<00:00, 1.65kB/s]\n",
      "Downloading: 100%|██████████| 112/112 [00:00<00:00, 97.9kB/s]\n",
      "Downloading: 100%|██████████| 433M/433M [00:06<00:00, 62.7MB/s] \n"
     ]
    },
    {
     "name": "stdout",
     "output_type": "stream",
     "text": [
      "[{'entity': 'B-PER', 'score': 0.9990139, 'index': 4, 'word': 'Wolfgang', 'start': 11, 'end': 19}, {'entity': 'B-LOC', 'score': 0.999645, 'index': 9, 'word': 'Berlin', 'start': 34, 'end': 40}]\n"
     ]
    }
   ],
   "source": [
    "from transformers import AutoTokenizer, AutoModelForTokenClassification\n",
    "from transformers import pipeline\n",
    "\n",
    "tokenizer = AutoTokenizer.from_pretrained(\"dslim/bert-base-NER\")\n",
    "model = AutoModelForTokenClassification.from_pretrained(\"dslim/bert-base-NER\")\n",
    "\n",
    "nlp = pipeline(\"ner\", model=model, tokenizer=tokenizer)\n",
    "example = \"My name is Wolfgang and I live in Berlin\"\n",
    "\n",
    "ner_results = nlp(example)\n",
    "print(ner_results)"
   ]
  },
  {
   "cell_type": "code",
   "execution_count": 1,
   "metadata": {},
   "outputs": [],
   "source": [
    "import gunicorn"
   ]
  },
  {
   "cell_type": "code",
   "execution_count": 2,
   "metadata": {},
   "outputs": [
    {
     "name": "stderr",
     "output_type": "stream",
     "text": [
      "/Users/lukethomas/Documents/searchy/venv_searchy/lib/python3.8/site-packages/tqdm/auto.py:22: TqdmWarning: IProgress not found. Please update jupyter and ipywidgets. See https://ipywidgets.readthedocs.io/en/stable/user_install.html\n",
      "  from .autonotebook import tqdm as notebook_tqdm\n"
     ]
    }
   ],
   "source": [
    "import sentence_transformers"
   ]
  },
  {
   "cell_type": "code",
   "execution_count": 3,
   "metadata": {},
   "outputs": [],
   "source": [
    "from sentence_transformers import CrossEncoder"
   ]
  },
  {
   "cell_type": "code",
   "execution_count": 4,
   "metadata": {},
   "outputs": [],
   "source": [
    "from sentence_transformers import CrossEncoder, util"
   ]
  },
  {
   "cell_type": "code",
   "execution_count": 5,
   "metadata": {},
   "outputs": [],
   "source": [
    "from sentence_transformers import SentenceTransformer, CrossEncoder, util\n",
    "import torch\n",
    "import pickle\n",
    "import pandas as pd\n",
    "import numpy as np\n",
    "\n",
    "bi_encoder = SentenceTransformer(\"multi-qa-MiniLM-L6-cos-v1\")\n",
    "cross_encoder = CrossEncoder(\"cross-encoder/ms-marco-MiniLM-L-6-v2\")"
   ]
  },
  {
   "cell_type": "code",
   "execution_count": 7,
   "metadata": {},
   "outputs": [
    {
     "name": "stdout",
     "output_type": "stream",
     "text": [
      "31102 lines in bsb2\n",
      "embeddings shape 384\n"
     ]
    }
   ],
   "source": [
    "from searchy import bible_class\n",
    "#Our sentences we like to encode\n",
    "with open('bsb2.txt', 'r') as file:\n",
    "    bible_v = file.readlines()\n",
    "    print(len(bible_v), 'lines in bsb2')\n",
    "try:\n",
    "    embeddings = np.load('bsb_embeddings.npy')\n",
    "except:\n",
    "    print('something went wrong')\n",
    "bible = bible_class(bible_v)\n",
    "d = embeddings.shape[1]\n",
    "print('embeddings shape', d)"
   ]
  },
  {
   "cell_type": "code",
   "execution_count": 38,
   "metadata": {},
   "outputs": [],
   "source": [
    "query = 'What is an instance where God shows love?'\n",
    "question_embedding = bi_encoder.encode(query, convert_to_tensor=True)\n",
    "hits = util.semantic_search(question_embedding, embeddings, top_k =50)[0]"
   ]
  },
  {
   "cell_type": "code",
   "execution_count": 39,
   "metadata": {},
   "outputs": [
    {
     "data": {
      "text/plain": [
       "{'corpus_id': 30615, 'score': 0.44576793909072876}"
      ]
     },
     "execution_count": 39,
     "metadata": {},
     "output_type": "execute_result"
    }
   ],
   "source": [
    "hits[0]"
   ]
  },
  {
   "cell_type": "code",
   "execution_count": 40,
   "metadata": {},
   "outputs": [],
   "source": [
    "cross_inp = [[query, bible[hit['corpus_id']]] for hit in hits]\n",
    "cross_scores = cross_encoder.predict(cross_inp)\n",
    "\n",
    "# Sort results by the cross-encoder scores\n",
    "for idx in range(len(cross_scores)):\n",
    "    hits[idx]['cross-score'] = cross_scores[idx]\n",
    "\n",
    "hits = sorted(hits, key=lambda x: x['cross-score'], reverse=True)"
   ]
  },
  {
   "cell_type": "code",
   "execution_count": 44,
   "metadata": {},
   "outputs": [
    {
     "name": "stdout",
     "output_type": "stream",
     "text": [
      "0.43|1 John 4:16     And we have come to know and believe the love that God has for us. God is love; whoever abides in love abides in God, and God in him.\n",
      "0.39|1 John 4:8      Whoever does not love does not know God, because God is love.\n",
      "0.39|Hosea 3:1       Then the LORD said to me, “Go show love to your wife again, though she is loved by another and is an adulteress. Love her as the LORD loves the Israelites, though they turn to other gods and offer raisin cakes to idols.”\n",
      "0.45|1 John 4:12     No one has ever seen God; but if we love one another, God remains in us, and His love is perfected in us.\n",
      "0.38|1 John 4:7      Beloved, let us love one another, because love comes from God. Everyone who loves has been born of God and knows God.\n"
     ]
    }
   ],
   "source": [
    "for i in range(5):\n",
    "    score = hits[i]['score']\n",
    "    ref = bible.id2ref[hits[i]['corpus_id']]\n",
    "    verse = bible[hits[i]['corpus_id']]\n",
    "    print(f\"{score:<.2}|{ref:<15} {verse}\")\n"
   ]
  },
  {
   "cell_type": "code",
   "execution_count": 24,
   "metadata": {},
   "outputs": [
    {
     "name": "stdout",
     "output_type": "stream",
     "text": [
      "Moses did everything just as the LORD had commanded him.\n",
      "So the LORD said to Moses,\n",
      "Thus the Israelites did everything just as the LORD had commanded Moses.\n",
      "Bezalel son of Uri, the son of Hur, of the tribe of Judah, made everything that the LORD had commanded Moses.\n",
      "So Moses, Aaron, and the whole congregation of Israel did with the Levites everything that the LORD had commanded Moses they should do.\n",
      "So Moses did as the LORD had commanded him.\n",
      "Then the LORD said to Moses,\n",
      "Then the LORD said to Moses, “Stretch out your hand over the sea, so that the waters may flow back over the Egyptians and their chariots and horsemen.”\n",
      "So Moses went down to the people and spoke to them.\n",
      "And all the people answered together, “We will do everything that the LORD has spoken.” So Moses brought their words back to the LORD.\n",
      "Then the LORD said to Moses,\n",
      "And when Moses heard this explanation, he was satisfied.\n",
      "And the LORD said to Moses,\n",
      "“Moses My servant is dead. Now therefore arise, you and all these people, and cross over the Jordan into the land that I am giving to the children of Israel.\n",
      "and told them, “You have done all that Moses the servant of the LORD commanded you, and you have obeyed my voice in all that I commanded you.\n",
      "Moses listened to his father-in-law and did everything he said.\n",
      "Furthermore, the Israelites acted on Moses’ word and asked the Egyptians for articles of silver and gold, and for clothing.\n",
      "One day, after Moses had grown up, he went out to his own people and observed their hard labor. He saw an Egyptian beating a Hebrew, one of his own people.\n",
      "And the LORD gave the people favor in the sight of the Egyptians. Moreover, Moses himself was highly regarded in Egypt by Pharaoh’s officials and by the people.\n",
      "Then the LORD said to Moses,\n",
      "For the LORD had said to Moses, “Tell the Israelites, ‘You are a stiff-necked people. If I should go with you for a single moment, I would destroy you. Now take off your jewelry, and I will decide what to do with you.’”\n",
      "Then the LORD said to Moses,\n",
      "Then Moses recounted to his father-in-law all that the LORD had done to Pharaoh and the Egyptians for Israel’s sake, all the hardships they had encountered along the way, and how the LORD had delivered them.\n",
      "Then the LORD said to Moses,\n",
      "And the LORD said to Moses,\n",
      "And the LORD said to Moses,\n",
      "But Moses’ father-in-law said to him, “What you are doing is not good.\n",
      "And the LORD said to Moses,\n",
      "And the LORD said to Moses,\n",
      "Then the LORD said to Moses,\n",
      "So Aaron and his sons did everything the LORD had commanded through Moses.\n",
      "Now Moses was faithful as a servant in all God’s house, testifying to what would be spoken later.\n",
      "And they gave this account to Moses: “We went into the land to which you sent us, and indeed, it is flowing with milk and honey. Here is some of its fruit!\n",
      "Then the LORD said to Moses,\n",
      "So the LORD said to Moses, “I will do this very thing you have asked, for you have found favor in My sight, and I know you by name.”\n",
      "And the LORD said to Moses,\n",
      "Then the LORD said to Moses,\n",
      "and the LORD said to Moses,\n",
      "So Moses took the blood, sprinkled it on the people, and said, “This is the blood of the covenant that the LORD has made with you in accordance with all these words.”\n",
      "So Moses took his wife and sons, put them on a donkey, and headed back to Egypt. And he took the staff of God in his hand.\n",
      "“What did Moses command you?” He replied.\n",
      "Then the LORD said to Moses,\n",
      "Moses took half of the blood and put it in bowls, and the other half he sprinkled on the altar.\n",
      "So the people grumbled against Moses, saying, “What are we to drink?”\n",
      "And the LORD instructed Moses,\n",
      "Then the LORD said to Moses,\n",
      "Then the LORD said to Moses,\n",
      "And Moses cried out to the LORD, and the LORD showed him a log. And when he cast it into the waters, they were sweetened. There the LORD made for them a statute and an ordinance, and there He tested them,\n",
      "And the LORD said to Moses,\n",
      "Moses relayed this message to the Israelites, but on account of their broken spirit and cruel bondage, they did not listen to him.\n"
     ]
    }
   ],
   "source": [
    "for h in hits:\n",
    "#     print(h['corpus_id'])\n",
    "    print(bible[h['corpus_id']])"
   ]
  },
  {
   "cell_type": "code",
   "execution_count": null,
   "metadata": {},
   "outputs": [],
   "source": [
    "from sentence_transformers import SentenceTransformer, CrossEncoder, util\n",
    "import torch\n",
    "import pickle\n",
    "import pandas as pd\n",
    "\n",
    "bi_encoder = SentenceTransformer(\"multi-qa-MiniLM-L6-cos-v1\")\n",
    "cross_encoder = CrossEncoder(\"cross-encoder/ms-marco-MiniLM-L-6-v2\")\n",
    "embeddings=pd.read_pickle(\"corpus_embeddings_cpu.pkl\")\n",
    "corpus=pd.read_pickle(\"corpus.pkl\")\n",
    "\n",
    "def search(query,top_k=100):\n",
    "    print(\"Top 5 Answer by the NSE:\")\n",
    "    print()\n",
    "    ans=[]\n",
    "    ##### Sematic Search #####\n",
    "    # Encode the query using the bi-encoder and find potentially relevant passages\n",
    "    question_embedding = bi_encoder.encode(query, convert_to_tensor=True)\n",
    "    hits = util.semantic_search(question_embedding, corpus_embeddings, top_k=top_k)\n",
    "    hits = hits[0]  # Get the hits for the first query\n",
    "\n",
    "    ##### Re-Ranking #####\n",
    "    # Now, score all retrieved passages with the cross_encoder\n",
    "    cross_inp = [[query, corpus[hit['corpus_id']]] for hit in hits]\n",
    "    cross_scores = cross_encoder.predict(cross_inp)\n",
    "\n",
    "    # Sort results by the cross-encoder scores\n",
    "    for idx in range(len(cross_scores)):\n",
    "        hits[idx]['cross-score'] = cross_scores[idx]\n",
    "\n",
    "    hits = sorted(hits, key=lambda x: x['cross-score'], reverse=True)\n",
    "    \n",
    "    for idx, hit in enumerate(hits[0:5]):\n",
    "        ans.append(corpus[hit['corpus_id']])\n",
    "    return ans[0],ans[1],ans[2],ans[3],ans[4]"
   ]
  },
  {
   "cell_type": "code",
   "execution_count": null,
   "metadata": {},
   "outputs": [],
   "source": [
    "corpus_embeddings=pd.read_pickle(\"corpus_embeddings_cpu.pkl\")\n",
    "corpus=pd.read_pickle(\"corpus.pkl\")\n",
    "\n",
    "def search(query,top_k=100):\n",
    "    print(\"Top 5 Answer by the NSE:\")\n",
    "    print()\n",
    "    ans=[]\n",
    "    ##### Sematic Search #####\n",
    "    # Encode the query using the bi-encoder and find potentially relevant passages\n",
    "    question_embedding = bi_encoder.encode(query, convert_to_tensor=True)\n",
    "    hits = util.semantic_search(question_embedding, corpus_embeddings, top_k=top_k)\n",
    "    hits = hits[0]  # Get the hits for the first query\n",
    "\n",
    "    ##### Re-Ranking #####\n",
    "    # Now, score all retrieved passages with the cross_encoder\n",
    "    cross_inp = [[query, corpus[hit['corpus_id']]] for hit in hits]\n",
    "    cross_scores = cross_encoder.predict(cross_inp)\n",
    "\n",
    "    # Sort results by the cross-encoder scores\n",
    "    for idx in range(len(cross_scores)):\n",
    "        hits[idx]['cross-score'] = cross_scores[idx]\n",
    "\n",
    "    hits = sorted(hits, key=lambda x: x['cross-score'], reverse=True)\n",
    "    \n",
    "    for idx, hit in enumerate(hits[0:5]):\n",
    "        ans.append(corpus[hit['corpus_id']])\n",
    "    return ans[0],ans[1],ans[2],ans[3],ans[4]"
   ]
  }
 ],
 "metadata": {
  "kernelspec": {
   "display_name": "venv_searchy",
   "language": "python",
   "name": "venv_searchy"
  },
  "language_info": {
   "codemirror_mode": {
    "name": "ipython",
    "version": 3
   },
   "file_extension": ".py",
   "mimetype": "text/x-python",
   "name": "python",
   "nbconvert_exporter": "python",
   "pygments_lexer": "ipython3",
   "version": "3.8.5"
  },
  "vscode": {
   "interpreter": {
    "hash": "09ac07f8967360f0f342615e0a800ca0d983a5d263094d531de38221b7eb2cf3"
   }
  }
 },
 "nbformat": 4,
 "nbformat_minor": 2
}
